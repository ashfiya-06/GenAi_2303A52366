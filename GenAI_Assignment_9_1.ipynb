{
  "nbformat": 4,
  "nbformat_minor": 0,
  "metadata": {
    "colab": {
      "provenance": [],
      "include_colab_link": true
    },
    "kernelspec": {
      "name": "python3",
      "display_name": "Python 3"
    },
    "language_info": {
      "name": "python"
    }
  },
  "cells": [
    {
      "cell_type": "markdown",
      "metadata": {
        "id": "view-in-github",
        "colab_type": "text"
      },
      "source": [
        "<a href=\"https://colab.research.google.com/github/ashfiya-06/GenAi_2303A52366/blob/main/GenAI_Assignment_9_1.ipynb\" target=\"_parent\"><img src=\"https://colab.research.google.com/assets/colab-badge.svg\" alt=\"Open In Colab\"/></a>"
      ]
    },
    {
      "cell_type": "code",
      "execution_count": null,
      "metadata": {
        "colab": {
          "base_uri": "https://localhost:8080/"
        },
        "id": "uIoSk79WeAnd",
        "outputId": "c8cb700d-0ac0-409e-bf2f-1219d01f64c6"
      },
      "outputs": [
        {
          "output_type": "stream",
          "name": "stdout",
          "text": [
            "Downloading data from https://storage.googleapis.com/tensorflow/tf-keras-datasets/mnist.npz\n",
            "\u001b[1m11490434/11490434\u001b[0m \u001b[32m━━━━━━━━━━━━━━━━━━━━\u001b[0m\u001b[37m\u001b[0m \u001b[1m0s\u001b[0m 0us/step\n",
            "Epoch 1/10\n",
            "\u001b[1m469/469\u001b[0m \u001b[32m━━━━━━━━━━━━━━━━━━━━\u001b[0m\u001b[37m\u001b[0m \u001b[1m5s\u001b[0m 6ms/step - accuracy: 0.0868 - loss: 2.2944 - val_accuracy: 0.0893 - val_loss: 2.2822\n",
            "Epoch 2/10\n",
            "\u001b[1m469/469\u001b[0m \u001b[32m━━━━━━━━━━━━━━━━━━━━\u001b[0m\u001b[37m\u001b[0m \u001b[1m5s\u001b[0m 5ms/step - accuracy: 0.0907 - loss: 2.2821 - val_accuracy: 0.0952 - val_loss: 2.2701\n",
            "Epoch 3/10\n",
            "\u001b[1m469/469\u001b[0m \u001b[32m━━━━━━━━━━━━━━━━━━━━\u001b[0m\u001b[37m\u001b[0m \u001b[1m3s\u001b[0m 6ms/step - accuracy: 0.0971 - loss: 2.2695 - val_accuracy: 0.1010 - val_loss: 2.2585\n",
            "Epoch 4/10\n",
            "\u001b[1m469/469\u001b[0m \u001b[32m━━━━━━━━━━━━━━━━━━━━\u001b[0m\u001b[37m\u001b[0m \u001b[1m4s\u001b[0m 3ms/step - accuracy: 0.1034 - loss: 2.2591 - val_accuracy: 0.1127 - val_loss: 2.2472\n",
            "Epoch 5/10\n",
            "\u001b[1m469/469\u001b[0m \u001b[32m━━━━━━━━━━━━━━━━━━━━\u001b[0m\u001b[37m\u001b[0m \u001b[1m2s\u001b[0m 5ms/step - accuracy: 0.1155 - loss: 2.2482 - val_accuracy: 0.1305 - val_loss: 2.2358\n",
            "Epoch 6/10\n",
            "\u001b[1m469/469\u001b[0m \u001b[32m━━━━━━━━━━━━━━━━━━━━\u001b[0m\u001b[37m\u001b[0m \u001b[1m3s\u001b[0m 5ms/step - accuracy: 0.1343 - loss: 2.2375 - val_accuracy: 0.1510 - val_loss: 2.2242\n",
            "Epoch 7/10\n",
            "\u001b[1m469/469\u001b[0m \u001b[32m━━━━━━━━━━━━━━━━━━━━\u001b[0m\u001b[37m\u001b[0m \u001b[1m5s\u001b[0m 5ms/step - accuracy: 0.1573 - loss: 2.2240 - val_accuracy: 0.1780 - val_loss: 2.2121\n",
            "Epoch 8/10\n",
            "\u001b[1m469/469\u001b[0m \u001b[32m━━━━━━━━━━━━━━━━━━━━\u001b[0m\u001b[37m\u001b[0m \u001b[1m3s\u001b[0m 6ms/step - accuracy: 0.1848 - loss: 2.2125 - val_accuracy: 0.2066 - val_loss: 2.1995\n",
            "Epoch 9/10\n",
            "\u001b[1m469/469\u001b[0m \u001b[32m━━━━━━━━━━━━━━━━━━━━\u001b[0m\u001b[37m\u001b[0m \u001b[1m5s\u001b[0m 6ms/step - accuracy: 0.2063 - loss: 2.1987 - val_accuracy: 0.2342 - val_loss: 2.1861\n",
            "Epoch 10/10\n",
            "\u001b[1m469/469\u001b[0m \u001b[32m━━━━━━━━━━━━━━━━━━━━\u001b[0m\u001b[37m\u001b[0m \u001b[1m3s\u001b[0m 5ms/step - accuracy: 0.2361 - loss: 2.1867 - val_accuracy: 0.2613 - val_loss: 2.1720\n",
            "Training Accuracy: 0.2550\n",
            "Testing Accuracy: 0.2613\n",
            "Testing configuration: [64, 64, 64], Activation: relu\n",
            "Test Accuracy: 0.2857\n",
            "\n",
            "Testing configuration: [128, 64, 32], Activation: relu\n",
            "Test Accuracy: 0.5141\n",
            "\n",
            "Testing configuration: [256, 128, 64], Activation: relu\n",
            "Test Accuracy: 0.6432\n",
            "\n",
            "Testing configuration: [128, 128, 128], Activation: tanh\n",
            "Test Accuracy: 0.7685\n",
            "\n",
            "Testing configuration: [64, 32, 16], Activation: sigmoid\n",
            "Test Accuracy: 0.1032\n",
            "\n",
            "Best Configuration: ([128, 128, 128], 'tanh'), Best Test Accuracy: 0.7685\n"
          ]
        }
      ],
      "source": [
        "import tensorflow as tf\n",
        "from tensorflow import keras\n",
        "from tensorflow.keras import layers\n",
        "from tensorflow.keras.datasets import mnist\n",
        "import numpy as np\n",
        "\n",
        "# Load MNIST dataset\n",
        "(x_train, y_train), (x_test, y_test) = mnist.load_data()\n",
        "\n",
        "# Preprocess data\n",
        "x_train = x_train.astype(\"float32\") / 255.0\n",
        "x_test = x_test.astype(\"float32\") / 255.0\n",
        "x_train = x_train.reshape(-1, 28 * 28)\n",
        "x_test = x_test.reshape(-1, 28 * 28)\n",
        "\n",
        "# Convert labels to one-hot encoding\n",
        "y_train = keras.utils.to_categorical(y_train, 10)\n",
        "y_test = keras.utils.to_categorical(y_test, 10)\n",
        "\n",
        "# Define ANN architecture\n",
        "def build_model(hidden_layers=[32, 32, 32], activation='relu', optimizer='adadelta'):\n",
        "    model = keras.Sequential()\n",
        "    model.add(layers.Input(shape=(28 * 28,)))  # Input layer\n",
        "\n",
        "    # Hidden layers\n",
        "    for units in hidden_layers:\n",
        "        model.add(layers.Dense(units, activation=activation))\n",
        "\n",
        "    model.add(layers.Dense(10, activation=\"softmax\"))  # Output layer\n",
        "    model.compile(loss=\"categorical_crossentropy\", optimizer=optimizer, metrics=[\"accuracy\"])\n",
        "    return model\n",
        "\n",
        "# Initial model based on Table 1\n",
        "model = build_model()\n",
        "\n",
        "# Train the model\n",
        "history = model.fit(x_train, y_train, epochs=10, batch_size=128, validation_data=(x_test, y_test))\n",
        "\n",
        "# Evaluate the model\n",
        "train_loss, train_acc = model.evaluate(x_train, y_train, verbose=0)\n",
        "test_loss, test_acc = model.evaluate(x_test, y_test, verbose=0)\n",
        "\n",
        "print(f\"Training Accuracy: {train_acc:.4f}\")\n",
        "print(f\"Testing Accuracy: {test_acc:.4f}\")\n",
        "\n",
        "# Tune hyperparameters to find the best architecture\n",
        "best_acc = 0\n",
        "best_model = None\n",
        "best_config = None\n",
        "\n",
        "configs = [\n",
        "    ([64, 64, 64], 'relu'),\n",
        "    ([128, 64, 32], 'relu'),\n",
        "    ([256, 128, 64], 'relu'),\n",
        "    ([128, 128, 128], 'tanh'),\n",
        "    ([64, 32, 16], 'sigmoid')\n",
        "]\n",
        "\n",
        "for hidden_layers, activation in configs:\n",
        "    print(f\"Testing configuration: {hidden_layers}, Activation: {activation}\")\n",
        "    model = build_model(hidden_layers=hidden_layers, activation=activation)\n",
        "    model.fit(x_train, y_train, epochs=10, batch_size=128, verbose=0)\n",
        "    _, test_acc = model.evaluate(x_test, y_test, verbose=0)\n",
        "    print(f\"Test Accuracy: {test_acc:.4f}\\n\")\n",
        "\n",
        "    if test_acc > best_acc:\n",
        "        best_acc = test_acc\n",
        "        best_model = model\n",
        "        best_config = (hidden_layers, activation)\n",
        "\n",
        "print(f\"Best Configuration: {best_config}, Best Test Accuracy: {best_acc:.4f}\")\n"
      ]
    }
  ]
}